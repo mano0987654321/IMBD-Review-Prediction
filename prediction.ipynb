{
 "cells": [
  {
   "cell_type": "code",
   "execution_count": 1,
   "id": "78b0969a",
   "metadata": {},
   "outputs": [],
   "source": [
    "import numpy as np\n",
    "import tensorflow as tf\n",
    "from tensorflow.keras.datasets import imdb\n",
    "from tensorflow.keras.preprocessing import sequence\n",
    "from tensorflow.keras.models import load_model"
   ]
  },
  {
   "cell_type": "code",
   "execution_count": 2,
   "id": "ff9a8e0b",
   "metadata": {},
   "outputs": [],
   "source": [
    "word_index = imdb.get_word_index()\n",
    "reverse_word_index = {value: key for key, value in word_index.items()}\n"
   ]
  },
  {
   "cell_type": "code",
   "execution_count": 3,
   "id": "ebce0f89",
   "metadata": {},
   "outputs": [
    {
     "name": "stderr",
     "output_type": "stream",
     "text": [
      "WARNING:absl:Compiled the loaded model, but the compiled metrics have yet to be built. `model.compile_metrics` will be empty until you train or evaluate the model.\n"
     ]
    },
    {
     "data": {
      "text/html": [
       "<pre style=\"white-space:pre;overflow-x:auto;line-height:normal;font-family:Menlo,'DejaVu Sans Mono',consolas,'Courier New',monospace\"><span style=\"font-weight: bold\">Model: \"sequential\"</span>\n",
       "</pre>\n"
      ],
      "text/plain": [
       "\u001b[1mModel: \"sequential\"\u001b[0m\n"
      ]
     },
     "metadata": {},
     "output_type": "display_data"
    },
    {
     "data": {
      "text/html": [
       "<pre style=\"white-space:pre;overflow-x:auto;line-height:normal;font-family:Menlo,'DejaVu Sans Mono',consolas,'Courier New',monospace\">┏━━━━━━━━━━━━━━━━━━━━━━━━━━━━━━━━━┳━━━━━━━━━━━━━━━━━━━━━━━━┳━━━━━━━━━━━━━━━┓\n",
       "┃<span style=\"font-weight: bold\"> Layer (type)                    </span>┃<span style=\"font-weight: bold\"> Output Shape           </span>┃<span style=\"font-weight: bold\">       Param # </span>┃\n",
       "┡━━━━━━━━━━━━━━━━━━━━━━━━━━━━━━━━━╇━━━━━━━━━━━━━━━━━━━━━━━━╇━━━━━━━━━━━━━━━┩\n",
       "│ embedding (<span style=\"color: #0087ff; text-decoration-color: #0087ff\">Embedding</span>)           │ (<span style=\"color: #00af00; text-decoration-color: #00af00\">32</span>, <span style=\"color: #00af00; text-decoration-color: #00af00\">500</span>, <span style=\"color: #00af00; text-decoration-color: #00af00\">128</span>)         │     <span style=\"color: #00af00; text-decoration-color: #00af00\">1,280,000</span> │\n",
       "├─────────────────────────────────┼────────────────────────┼───────────────┤\n",
       "│ simple_rnn (<span style=\"color: #0087ff; text-decoration-color: #0087ff\">SimpleRNN</span>)          │ (<span style=\"color: #00af00; text-decoration-color: #00af00\">32</span>, <span style=\"color: #00af00; text-decoration-color: #00af00\">128</span>)              │        <span style=\"color: #00af00; text-decoration-color: #00af00\">32,896</span> │\n",
       "├─────────────────────────────────┼────────────────────────┼───────────────┤\n",
       "│ dense (<span style=\"color: #0087ff; text-decoration-color: #0087ff\">Dense</span>)                   │ (<span style=\"color: #00af00; text-decoration-color: #00af00\">32</span>, <span style=\"color: #00af00; text-decoration-color: #00af00\">1</span>)                │           <span style=\"color: #00af00; text-decoration-color: #00af00\">129</span> │\n",
       "└─────────────────────────────────┴────────────────────────┴───────────────┘\n",
       "</pre>\n"
      ],
      "text/plain": [
       "┏━━━━━━━━━━━━━━━━━━━━━━━━━━━━━━━━━┳━━━━━━━━━━━━━━━━━━━━━━━━┳━━━━━━━━━━━━━━━┓\n",
       "┃\u001b[1m \u001b[0m\u001b[1mLayer (type)                   \u001b[0m\u001b[1m \u001b[0m┃\u001b[1m \u001b[0m\u001b[1mOutput Shape          \u001b[0m\u001b[1m \u001b[0m┃\u001b[1m \u001b[0m\u001b[1m      Param #\u001b[0m\u001b[1m \u001b[0m┃\n",
       "┡━━━━━━━━━━━━━━━━━━━━━━━━━━━━━━━━━╇━━━━━━━━━━━━━━━━━━━━━━━━╇━━━━━━━━━━━━━━━┩\n",
       "│ embedding (\u001b[38;5;33mEmbedding\u001b[0m)           │ (\u001b[38;5;34m32\u001b[0m, \u001b[38;5;34m500\u001b[0m, \u001b[38;5;34m128\u001b[0m)         │     \u001b[38;5;34m1,280,000\u001b[0m │\n",
       "├─────────────────────────────────┼────────────────────────┼───────────────┤\n",
       "│ simple_rnn (\u001b[38;5;33mSimpleRNN\u001b[0m)          │ (\u001b[38;5;34m32\u001b[0m, \u001b[38;5;34m128\u001b[0m)              │        \u001b[38;5;34m32,896\u001b[0m │\n",
       "├─────────────────────────────────┼────────────────────────┼───────────────┤\n",
       "│ dense (\u001b[38;5;33mDense\u001b[0m)                   │ (\u001b[38;5;34m32\u001b[0m, \u001b[38;5;34m1\u001b[0m)                │           \u001b[38;5;34m129\u001b[0m │\n",
       "└─────────────────────────────────┴────────────────────────┴───────────────┘\n"
      ]
     },
     "metadata": {},
     "output_type": "display_data"
    },
    {
     "data": {
      "text/html": [
       "<pre style=\"white-space:pre;overflow-x:auto;line-height:normal;font-family:Menlo,'DejaVu Sans Mono',consolas,'Courier New',monospace\"><span style=\"font-weight: bold\"> Total params: </span><span style=\"color: #00af00; text-decoration-color: #00af00\">1,313,027</span> (5.01 MB)\n",
       "</pre>\n"
      ],
      "text/plain": [
       "\u001b[1m Total params: \u001b[0m\u001b[38;5;34m1,313,027\u001b[0m (5.01 MB)\n"
      ]
     },
     "metadata": {},
     "output_type": "display_data"
    },
    {
     "data": {
      "text/html": [
       "<pre style=\"white-space:pre;overflow-x:auto;line-height:normal;font-family:Menlo,'DejaVu Sans Mono',consolas,'Courier New',monospace\"><span style=\"font-weight: bold\"> Trainable params: </span><span style=\"color: #00af00; text-decoration-color: #00af00\">1,313,025</span> (5.01 MB)\n",
       "</pre>\n"
      ],
      "text/plain": [
       "\u001b[1m Trainable params: \u001b[0m\u001b[38;5;34m1,313,025\u001b[0m (5.01 MB)\n"
      ]
     },
     "metadata": {},
     "output_type": "display_data"
    },
    {
     "data": {
      "text/html": [
       "<pre style=\"white-space:pre;overflow-x:auto;line-height:normal;font-family:Menlo,'DejaVu Sans Mono',consolas,'Courier New',monospace\"><span style=\"font-weight: bold\"> Non-trainable params: </span><span style=\"color: #00af00; text-decoration-color: #00af00\">0</span> (0.00 B)\n",
       "</pre>\n"
      ],
      "text/plain": [
       "\u001b[1m Non-trainable params: \u001b[0m\u001b[38;5;34m0\u001b[0m (0.00 B)\n"
      ]
     },
     "metadata": {},
     "output_type": "display_data"
    },
    {
     "data": {
      "text/html": [
       "<pre style=\"white-space:pre;overflow-x:auto;line-height:normal;font-family:Menlo,'DejaVu Sans Mono',consolas,'Courier New',monospace\"><span style=\"font-weight: bold\"> Optimizer params: </span><span style=\"color: #00af00; text-decoration-color: #00af00\">2</span> (12.00 B)\n",
       "</pre>\n"
      ],
      "text/plain": [
       "\u001b[1m Optimizer params: \u001b[0m\u001b[38;5;34m2\u001b[0m (12.00 B)\n"
      ]
     },
     "metadata": {},
     "output_type": "display_data"
    }
   ],
   "source": [
    "model = load_model('simple_rnn_imdb.h5')\n",
    "model.summary()\n"
   ]
  },
  {
   "cell_type": "code",
   "execution_count": 4,
   "id": "15c89a0c",
   "metadata": {},
   "outputs": [
    {
     "data": {
      "text/plain": [
       "[array([[ 5.65898061e-01,  6.55343473e-01,  5.21828055e-01, ...,\n",
       "          5.51811829e-02,  5.47308385e-01, -4.66807425e-01],\n",
       "        [ 4.72762994e-03,  4.21758108e-02,  1.00313008e-01, ...,\n",
       "          1.93108004e-02,  5.76168038e-02,  1.35841721e-04],\n",
       "        [ 3.37863602e-02,  1.10740528e-01,  1.14943288e-01, ...,\n",
       "         -4.95081842e-02,  1.58134267e-01, -1.99646931e-02],\n",
       "        ...,\n",
       "        [-2.99652256e-02,  1.10279180e-01, -8.42082277e-02, ...,\n",
       "         -5.56027796e-03, -6.82375804e-02, -1.50282178e-02],\n",
       "        [ 4.95534614e-02,  3.48730870e-02, -3.03646103e-02, ...,\n",
       "          1.16760768e-01, -1.02142334e-01,  6.49466589e-02],\n",
       "        [-3.04715019e-02, -1.25094615e-02, -2.65786797e-03, ...,\n",
       "          1.87404454e-02, -4.75031398e-02,  2.14612624e-03]], dtype=float32),\n",
       " array([[-0.00988463, -0.02973426,  0.02248206, ..., -0.00652117,\n",
       "         -0.11691687,  0.00309263],\n",
       "        [ 0.07647463, -0.14086679, -0.02116724, ..., -0.06354588,\n",
       "         -0.00861422,  0.01631675],\n",
       "        [-0.11232118, -0.12962447,  0.03051174, ..., -0.1833197 ,\n",
       "         -0.09163943,  0.03647119],\n",
       "        ...,\n",
       "        [ 0.13318999,  0.0419229 , -0.02125129, ...,  0.07781196,\n",
       "         -0.05543264, -0.15017238],\n",
       "        [ 0.00983459,  0.0557901 , -0.13561489, ..., -0.09323267,\n",
       "         -0.09670954,  0.07269992],\n",
       "        [ 0.0319499 , -0.13271911,  0.07234522, ..., -0.15344174,\n",
       "         -0.06763054, -0.08122794]], dtype=float32),\n",
       " array([[-0.00409112, -0.06136722, -0.0040529 , ...,  0.04713828,\n",
       "          0.043598  , -0.09231611],\n",
       "        [ 0.1261588 ,  0.01169458, -0.14346549, ..., -0.05452164,\n",
       "          0.07826244,  0.1929433 ],\n",
       "        [ 0.04775112, -0.04515518, -0.2012601 , ...,  0.1070946 ,\n",
       "          0.089091  ,  0.07633322],\n",
       "        ...,\n",
       "        [-0.03125613,  0.03993273,  0.12377113, ...,  0.0208184 ,\n",
       "         -0.06231901, -0.02075615],\n",
       "        [ 0.01011291, -0.12410107,  0.09688555, ..., -0.11401708,\n",
       "         -0.0680081 , -0.07789887],\n",
       "        [-0.01505862,  0.07395089, -0.11748558, ..., -0.1119443 ,\n",
       "         -0.08920894,  0.17094031]], dtype=float32),\n",
       " array([ 0.02699913, -0.03915525, -0.03877313,  0.04811212,  0.0212929 ,\n",
       "        -0.04764856, -0.0633314 , -0.02986858,  0.02193356,  0.01662617,\n",
       "         0.02164857, -0.02448741, -0.02445153, -0.00090984, -0.06128985,\n",
       "        -0.05512208, -0.01743387, -0.05271215, -0.00123089, -0.04278624,\n",
       "        -0.06503548,  0.03746537, -0.00650094, -0.06371076, -0.02074506,\n",
       "        -0.01059839, -0.05745293, -0.01519537,  0.00467544, -0.03968231,\n",
       "        -0.04013465, -0.00648533,  0.00978484, -0.03023264,  0.02566043,\n",
       "        -0.03934816,  0.00798807,  0.05045106, -0.03697685, -0.00825965,\n",
       "         0.01274792, -0.02005511,  0.02056609,  0.00981868, -0.02907965,\n",
       "        -0.02415765,  0.01202499, -0.04747977, -0.00596873,  0.04679559,\n",
       "        -0.04025121, -0.01061269, -0.03490368,  0.01457001, -0.01367839,\n",
       "        -0.03176632, -0.04264963, -0.03769428,  0.03332169,  0.02200487,\n",
       "         0.03015821, -0.01582705, -0.0054389 , -0.00032034, -0.04430088,\n",
       "        -0.04341131, -0.01472316, -0.05071314,  0.01154292, -0.0063089 ,\n",
       "        -0.02145188,  0.00125725,  0.03872042, -0.00530154,  0.00868922,\n",
       "         0.05172643, -0.02743966,  0.01117239, -0.04127248,  0.01568396,\n",
       "        -0.03987636, -0.02772291,  0.06033577, -0.04653151, -0.01490841,\n",
       "        -0.03658101, -0.03251282,  0.02133297, -0.03967519,  0.00779535,\n",
       "        -0.01766581,  0.02378935,  0.04330985, -0.07410302,  0.01171517,\n",
       "        -0.04046371, -0.03277503, -0.01446834, -0.0436214 ,  0.04672625,\n",
       "        -0.00922924, -0.00170471, -0.0305555 , -0.00743343, -0.00331384,\n",
       "        -0.02162913, -0.03778291,  0.04455533, -0.02126172, -0.02589738,\n",
       "         0.03554722,  0.00203752,  0.00236064, -0.00415602,  0.0711138 ,\n",
       "         0.01878702, -0.00336453,  0.00612869, -0.00040784,  0.00325845,\n",
       "        -0.00107893,  0.013253  ,  0.01463698, -0.02167313,  0.0363389 ,\n",
       "        -0.0003433 , -0.04197171, -0.02924018], dtype=float32),\n",
       " array([[ 0.08041428],\n",
       "        [ 0.2040771 ],\n",
       "        [-0.11263046],\n",
       "        [-0.21529463],\n",
       "        [-0.06951191],\n",
       "        [ 0.01173457],\n",
       "        [ 0.11997949],\n",
       "        [-0.14725761],\n",
       "        [ 0.07007185],\n",
       "        [-0.13166973],\n",
       "        [ 0.13057736],\n",
       "        [-0.25503922],\n",
       "        [ 0.02767402],\n",
       "        [ 0.16446108],\n",
       "        [-0.0975147 ],\n",
       "        [-0.08979364],\n",
       "        [ 0.14511581],\n",
       "        [-0.02431872],\n",
       "        [ 0.17131998],\n",
       "        [-0.1200489 ],\n",
       "        [ 0.00331416],\n",
       "        [-0.12112853],\n",
       "        [-0.07524134],\n",
       "        [-0.23130842],\n",
       "        [-0.01306802],\n",
       "        [ 0.09631915],\n",
       "        [-0.15202983],\n",
       "        [ 0.02892866],\n",
       "        [ 0.01655511],\n",
       "        [ 0.17486322],\n",
       "        [-0.0385027 ],\n",
       "        [-0.19348237],\n",
       "        [ 0.24146986],\n",
       "        [ 0.09200972],\n",
       "        [ 0.01515963],\n",
       "        [-0.0087294 ],\n",
       "        [ 0.19091512],\n",
       "        [-0.07930985],\n",
       "        [-0.23366372],\n",
       "        [ 0.17053764],\n",
       "        [-0.06652276],\n",
       "        [-0.10174076],\n",
       "        [-0.30345786],\n",
       "        [-0.00981631],\n",
       "        [-0.81324124],\n",
       "        [ 0.02598374],\n",
       "        [-0.19613877],\n",
       "        [ 0.1406615 ],\n",
       "        [-0.05785585],\n",
       "        [-0.23302077],\n",
       "        [ 0.08903135],\n",
       "        [ 0.21735154],\n",
       "        [-0.5796579 ],\n",
       "        [ 0.1343522 ],\n",
       "        [-0.18941683],\n",
       "        [ 0.08257441],\n",
       "        [-0.03278845],\n",
       "        [ 0.22420596],\n",
       "        [-0.1137119 ],\n",
       "        [-0.20766072],\n",
       "        [-0.24900307],\n",
       "        [ 0.23115112],\n",
       "        [ 0.13053352],\n",
       "        [ 0.12292883],\n",
       "        [ 0.13784137],\n",
       "        [ 0.04131008],\n",
       "        [-0.02592951],\n",
       "        [ 0.36740616],\n",
       "        [-0.15871431],\n",
       "        [ 0.11723746],\n",
       "        [-0.02482548],\n",
       "        [ 0.03509755],\n",
       "        [-0.02174918],\n",
       "        [-0.17657642],\n",
       "        [ 0.08234236],\n",
       "        [-0.25600484],\n",
       "        [ 0.37795973],\n",
       "        [-0.03766647],\n",
       "        [ 0.07643194],\n",
       "        [ 0.11085482],\n",
       "        [ 0.5437778 ],\n",
       "        [ 0.09888402],\n",
       "        [ 0.13671844],\n",
       "        [ 0.15405042],\n",
       "        [ 0.20169695],\n",
       "        [-0.07037751],\n",
       "        [-0.08979198],\n",
       "        [-0.23162507],\n",
       "        [-0.32323855],\n",
       "        [ 0.1362129 ],\n",
       "        [-0.14772002],\n",
       "        [ 0.14106107],\n",
       "        [-0.1880241 ],\n",
       "        [-0.0071229 ],\n",
       "        [ 0.17794383],\n",
       "        [ 0.0951487 ],\n",
       "        [ 0.18918262],\n",
       "        [-0.6122726 ],\n",
       "        [ 0.06744863],\n",
       "        [-0.22415984],\n",
       "        [-0.2499926 ],\n",
       "        [-0.14029257],\n",
       "        [ 0.18604296],\n",
       "        [ 0.14519306],\n",
       "        [-0.06984794],\n",
       "        [-0.11270782],\n",
       "        [ 0.00591725],\n",
       "        [-0.23693088],\n",
       "        [-0.0746932 ],\n",
       "        [-0.2020567 ],\n",
       "        [-0.05138705],\n",
       "        [ 0.17689538],\n",
       "        [-0.10212155],\n",
       "        [-0.19531423],\n",
       "        [-0.24536705],\n",
       "        [ 0.10261718],\n",
       "        [-0.2286488 ],\n",
       "        [-0.13410643],\n",
       "        [ 0.16942634],\n",
       "        [-0.07575874],\n",
       "        [ 0.17717557],\n",
       "        [ 0.06080719],\n",
       "        [-0.10550171],\n",
       "        [-0.1200313 ],\n",
       "        [-0.2051122 ],\n",
       "        [ 0.12964524],\n",
       "        [ 0.11308941],\n",
       "        [-0.08733124]], dtype=float32),\n",
       " array([-0.02111004], dtype=float32)]"
      ]
     },
     "execution_count": 4,
     "metadata": {},
     "output_type": "execute_result"
    }
   ],
   "source": [
    "model.get_weights()"
   ]
  },
  {
   "cell_type": "code",
   "execution_count": 5,
   "id": "da564346",
   "metadata": {},
   "outputs": [],
   "source": [
    "#Step-2 :HELPER FUNCTION\n",
    "def decode_review(encoded_review):\n",
    "    return ' '.join([reverse_word_index.get(i - 3, '?')for i in encoded_review])\n",
    "#functiom to preprocess user input\n",
    "def preprocess_text(text):\n",
    "    words = text.lower().split()\n",
    "    encoded_review = [word_index.get(word, 2) + 3 for word in words]\n",
    "    padded_review = sequence.pad_sequences([encoded_review], maxlen=500)\n",
    "    return padded_review\n"
   ]
  },
  {
   "cell_type": "code",
   "execution_count": 6,
   "id": "cb2fed3f",
   "metadata": {},
   "outputs": [],
   "source": [
    "###PRediction function\n",
    "def predict_sentiment(review):\n",
    "    preprocessed_input = preprocess_text(review)\n",
    "\n",
    "    prediction = model.predict(preprocessed_input)\n",
    "\n",
    "    sentiment ='Positive' if prediction[0][0] > 0.5 else 'Negative'\n",
    "\n",
    "    return sentiment,prediction[0][0]\n",
    "\n"
   ]
  },
  {
   "cell_type": "code",
   "execution_count": 7,
   "id": "404f0a5c",
   "metadata": {},
   "outputs": [
    {
     "name": "stdout",
     "output_type": "stream",
     "text": [
      "\u001b[1m1/1\u001b[0m \u001b[32m━━━━━━━━━━━━━━━━━━━━\u001b[0m\u001b[37m\u001b[0m \u001b[1m0s\u001b[0m 169ms/step\n",
      " Review: This movie was fantastic! The plot was engaging and greate acting make us thriller.\n",
      " Sentiment: Negative\n",
      "Prediction Score: 0.44678425788879395\n"
     ]
    }
   ],
   "source": [
    "##Example review for prediction\n",
    "example_review = \"This movie was fantastic! The plot was engaging and greate acting make us thriller.\"\n",
    "\n",
    "sentiment,score = predict_sentiment(example_review)\n",
    "print (f' Review: {example_review}')\n",
    "print (f' Sentiment: {sentiment}')\n",
    "print (f'Prediction Score: {score}')\n"
   ]
  },
  {
   "cell_type": "code",
   "execution_count": 8,
   "id": "60b37c39",
   "metadata": {},
   "outputs": [
    {
     "name": "stderr",
     "output_type": "stream",
     "text": [
      "WARNING:absl:You are saving your model as an HDF5 file via `model.save()` or `keras.saving.save_model(model)`. This file format is considered legacy. We recommend using instead the native Keras format, e.g. `model.save('my_model.keras')` or `keras.saving.save_model(model, 'my_model.keras')`. \n"
     ]
    }
   ],
   "source": [
    "model.save('simple_rnn_imdb_relu.h5')"
   ]
  },
  {
   "cell_type": "code",
   "execution_count": null,
   "id": "0fecf217",
   "metadata": {},
   "outputs": [],
   "source": []
  },
  {
   "cell_type": "code",
   "execution_count": null,
   "id": "03626174",
   "metadata": {},
   "outputs": [],
   "source": []
  }
 ],
 "metadata": {
  "kernelspec": {
   "display_name": "Python 3",
   "language": "python",
   "name": "python3"
  },
  "language_info": {
   "codemirror_mode": {
    "name": "ipython",
    "version": 3
   },
   "file_extension": ".py",
   "mimetype": "text/x-python",
   "name": "python",
   "nbconvert_exporter": "python",
   "pygments_lexer": "ipython3",
   "version": "3.11.0"
  }
 },
 "nbformat": 4,
 "nbformat_minor": 5
}
